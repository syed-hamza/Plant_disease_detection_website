{
 "cells": [
  {
   "cell_type": "code",
   "execution_count": 1,
   "metadata": {},
   "outputs": [],
   "source": [
    "import cv2\n",
    "import numpy as np\n",
    "import os\n",
    "import torch\n",
    "import torch.nn as nn\n",
    "import torch.optim as optim\n",
    "import torchvision\n",
    "import torchvision.transforms as transforms\n",
    "from torchsummary import summary\n",
    "import matplotlib.pyplot as plt\n",
    "import torchvision.datasets as datasets\n",
    "import torch\n",
    "import torch.nn as nn\n",
    "from torchsummary import summary\n",
    "import sys\n",
    "sys.path.append(\"utils/\")\n",
    "from model import CNN"
   ]
  },
  {
   "cell_type": "code",
   "execution_count": 2,
   "metadata": {},
   "outputs": [
    {
     "name": "stdout",
     "output_type": "stream",
     "text": [
      "Number of available GPUs:  1\n",
      "Device 0:\n",
      "Name:  NVIDIA GeForce RTX 2070\n",
      "Capability:  (7, 5)\n",
      "Memory Total:  8366915584\n",
      "\n"
     ]
    }
   ],
   "source": [
    "\n",
    "device_count = torch.cuda.device_count()\n",
    "print(\"Number of available GPUs: \", device_count)\n",
    "\n",
    "for i in range(device_count):\n",
    "    print(\"Device {}:\".format(i))\n",
    "    print(\"Name: \", torch.cuda.get_device_name(i))\n",
    "    print(\"Capability: \", torch.cuda.get_device_capability(i))\n",
    "    print(\"Memory Total: \", torch.cuda.get_device_properties(i).total_memory)\n",
    "    print()\n"
   ]
  },
  {
   "cell_type": "code",
   "execution_count": 3,
   "metadata": {},
   "outputs": [],
   "source": [
    "train_dir  = \"../data/Train/Train/\"\n",
    "val_dir = \"../data/Validation/Validation/\"\n",
    "test_dir = \"../data/Test/Test/\"\n",
    "classes = [\"Healthy\",\"Powdery\",\"Rust\"]\n",
    "device = torch.device(\"cuda\" if torch.cuda.is_available() else \"cpu\")\n",
    "nclass = len(classes)\n",
    "num_epochs = 150\n",
    "size = 128\n",
    "num_workers = 8\n",
    "model_path = '../models/'"
   ]
  },
  {
   "cell_type": "code",
   "execution_count": 4,
   "metadata": {},
   "outputs": [
    {
     "name": "stdout",
     "output_type": "stream",
     "text": [
      "['Healthy', 'Powdery', 'Rust']\n",
      "1322\n"
     ]
    }
   ],
   "source": [
    "print(classes)\n",
    "total = 0\n",
    "for i in classes:\n",
    "    total += len(os.listdir(train_dir+i))\n",
    "print(total)"
   ]
  },
  {
   "cell_type": "code",
   "execution_count": 11,
   "metadata": {},
   "outputs": [
    {
     "name": "stdout",
     "output_type": "stream",
     "text": [
      "----------------------------------------------------------------\n",
      "        Layer (type)               Output Shape         Param #\n",
      "================================================================\n",
      "            Conv2d-1         [-1, 64, 128, 128]           1,792\n",
      "            Conv2d-2           [-1, 64, 64, 64]          36,928\n",
      "            Conv2d-3           [-1, 64, 32, 32]          36,928\n",
      "            Conv2d-4           [-1, 64, 16, 16]          36,928\n",
      "            Conv2d-5             [-1, 64, 8, 8]          36,928\n",
      "            Conv2d-6             [-1, 64, 4, 4]          36,928\n",
      "            Linear-7                  [-1, 512]         131,584\n",
      "           Dropout-8                  [-1, 512]               0\n",
      "            Linear-9                   [-1, 10]           5,130\n",
      "           Linear-10                    [-1, 3]              33\n",
      "================================================================\n",
      "Total params: 323,179\n",
      "Trainable params: 323,179\n",
      "Non-trainable params: 0\n",
      "----------------------------------------------------------------\n",
      "Input size (MB): 0.19\n",
      "Forward/backward pass size (MB): 10.67\n",
      "Params size (MB): 1.23\n",
      "Estimated Total Size (MB): 12.09\n",
      "----------------------------------------------------------------\n"
     ]
    }
   ],
   "source": [
    "\n",
    "conv = (64, 64, 64, 64,64,64)\n",
    "model = CNN(size, nclass, conv)\n",
    "model = model.to(device)\n",
    "summary(model, (nclass, size, size))\n"
   ]
  },
  {
   "cell_type": "code",
   "execution_count": 6,
   "metadata": {},
   "outputs": [],
   "source": [
    "def generator(path,transform = None):\n",
    "    dataset = datasets.ImageFolder(path, transform=transform)\n",
    "    data,label_list = [],[]\n",
    "    for images, labels in dataset:\n",
    "        data.append(images)\n",
    "        label_list.append(labels)\n",
    "    data = torch.stack(data)\n",
    "    labels = torch.tensor(label_list)\n",
    "    print(data.shape)\n",
    "    print(labels.shape)\n",
    "    return torch.utils.data.DataLoader(torch.utils.data.TensorDataset(data, labels),\n",
    "    batch_size=64, shuffle=True, num_workers=num_workers)\n",
    "    \n"
   ]
  },
  {
   "cell_type": "code",
   "execution_count": 7,
   "metadata": {},
   "outputs": [
    {
     "name": "stdout",
     "output_type": "stream",
     "text": [
      "torch.Size([1322, 3, 128, 128])\n",
      "torch.Size([1322])\n",
      "torch.Size([60, 3, 128, 128])\n",
      "torch.Size([60])\n",
      "torch.Size([150, 3, 128, 128])\n",
      "torch.Size([150])\n"
     ]
    }
   ],
   "source": [
    "transform = transforms.Compose([\n",
    "    transforms.Resize((size, size)),\n",
    "    transforms.ToTensor(),\n",
    "    transforms.Normalize((0.5, 0.5, 0.5), (0.5, 0.5, 0.5))\n",
    "])\n",
    "train_data_loader = generator(train_dir,transform)\n",
    "val_data_loader = generator(val_dir,transform)\n",
    "test_loader = generator(test_dir,transform)"
   ]
  },
  {
   "cell_type": "code",
   "execution_count": 12,
   "metadata": {},
   "outputs": [
    {
     "name": "stdout",
     "output_type": "stream",
     "text": [
      "[Epoch 5] Training Loss: 0.540 | Training Accuracy: 66.41% | Validation Loss: 0.562 | Validation Accuracy: 65.00%\n",
      "[Epoch 10] Training Loss: 0.686 | Training Accuracy: 67.93% | Validation Loss: 0.520 | Validation Accuracy: 68.33%\n",
      "[Epoch 15] Training Loss: 0.693 | Training Accuracy: 63.84% | Validation Loss: 0.604 | Validation Accuracy: 61.67%\n",
      "[Epoch 20] Training Loss: 0.464 | Training Accuracy: 67.85% | Validation Loss: 0.480 | Validation Accuracy: 68.33%\n",
      "[Epoch 25] Training Loss: 0.554 | Training Accuracy: 66.72% | Validation Loss: 0.623 | Validation Accuracy: 65.00%\n",
      "[Epoch 30] Training Loss: 0.459 | Training Accuracy: 66.72% | Validation Loss: 0.473 | Validation Accuracy: 66.67%\n",
      "[Epoch 35] Training Loss: 0.410 | Training Accuracy: 69.06% | Validation Loss: 0.459 | Validation Accuracy: 70.00%\n",
      "[Epoch 40] Training Loss: 0.478 | Training Accuracy: 68.08% | Validation Loss: 0.465 | Validation Accuracy: 70.00%\n",
      "[Epoch 45] Training Loss: 0.589 | Training Accuracy: 67.32% | Validation Loss: 0.507 | Validation Accuracy: 66.67%\n",
      "[Epoch 50] Training Loss: 0.593 | Training Accuracy: 68.61% | Validation Loss: 0.472 | Validation Accuracy: 68.33%\n",
      "[Epoch 55] Training Loss: 0.524 | Training Accuracy: 66.11% | Validation Loss: 0.653 | Validation Accuracy: 63.33%\n",
      "[Epoch 60] Training Loss: 0.704 | Training Accuracy: 61.20% | Validation Loss: 0.870 | Validation Accuracy: 45.00%\n",
      "[Epoch 65] Training Loss: 0.451 | Training Accuracy: 71.86% | Validation Loss: 0.463 | Validation Accuracy: 66.67%\n",
      "[Epoch 70] Training Loss: 0.467 | Training Accuracy: 69.74% | Validation Loss: 0.507 | Validation Accuracy: 65.00%\n",
      "[Epoch 75] Training Loss: 0.531 | Training Accuracy: 72.47% | Validation Loss: 0.518 | Validation Accuracy: 68.33%\n",
      "[Epoch 80] Training Loss: 0.336 | Training Accuracy: 76.63% | Validation Loss: 0.510 | Validation Accuracy: 70.00%\n",
      "[Epoch 85] Training Loss: 0.489 | Training Accuracy: 73.07% | Validation Loss: 0.540 | Validation Accuracy: 68.33%\n",
      "[Epoch 90] Training Loss: 0.341 | Training Accuracy: 78.29% | Validation Loss: 0.443 | Validation Accuracy: 75.00%\n",
      "[Epoch 95] Training Loss: 0.499 | Training Accuracy: 70.57% | Validation Loss: 0.902 | Validation Accuracy: 73.33%\n",
      "[Epoch 100] Training Loss: 0.424 | Training Accuracy: 81.62% | Validation Loss: 0.553 | Validation Accuracy: 73.33%\n",
      "[Epoch 105] Training Loss: 0.228 | Training Accuracy: 87.37% | Validation Loss: 0.320 | Validation Accuracy: 85.00%\n",
      "[Epoch 110] Training Loss: 0.198 | Training Accuracy: 86.54% | Validation Loss: 0.438 | Validation Accuracy: 85.00%\n",
      "[Epoch 115] Training Loss: 0.893 | Training Accuracy: 92.59% | Validation Loss: 0.451 | Validation Accuracy: 80.00%\n",
      "[Epoch 120] Training Loss: 0.426 | Training Accuracy: 90.24% | Validation Loss: 0.451 | Validation Accuracy: 86.67%\n",
      "[Epoch 125] Training Loss: 0.218 | Training Accuracy: 91.30% | Validation Loss: 0.616 | Validation Accuracy: 85.00%\n",
      "[Epoch 130] Training Loss: 0.283 | Training Accuracy: 93.80% | Validation Loss: 0.229 | Validation Accuracy: 90.00%\n",
      "[Epoch 135] Training Loss: 0.115 | Training Accuracy: 95.99% | Validation Loss: 0.274 | Validation Accuracy: 88.33%\n",
      "[Epoch 140] Training Loss: 0.174 | Training Accuracy: 95.16% | Validation Loss: 0.212 | Validation Accuracy: 95.00%\n",
      "[Epoch 145] Training Loss: 0.257 | Training Accuracy: 92.21% | Validation Loss: 0.287 | Validation Accuracy: 88.33%\n",
      "[Epoch 150] Training Loss: 0.486 | Training Accuracy: 86.76% | Validation Loss: 0.473 | Validation Accuracy: 83.33%\n",
      "Training finished.\n"
     ]
    }
   ],
   "source": [
    "criterion = nn.CrossEntropyLoss()\n",
    "optimizer = optim.Adam(model.parameters(), lr=0.01)\n",
    "\n",
    "# Training loop\n",
    "train_loss_hist = []\n",
    "val_loss_hist = []\n",
    "train_acc = []\n",
    "val_acc = []\n",
    "best_acc = 0\n",
    "for epoch in range(num_epochs):\n",
    "    for i, (images, labels) in enumerate(train_data_loader):\n",
    "        images = images.to(device)\n",
    "        labels = labels.to(device)\n",
    "        \n",
    "        optimizer.zero_grad()\n",
    "        images.requires_grad = True\n",
    "        outputs = model(images)\n",
    "        loss = criterion(outputs, labels)\n",
    "\n",
    "        loss.backward()\n",
    "        optimizer.step()\n",
    "        \n",
    "    if epoch % 5 == 4:\n",
    "        # Calculate training accuracy\n",
    "        total_train = 0\n",
    "        correct_train = 0\n",
    "        with torch.no_grad():\n",
    "            for train_images, train_labels in train_data_loader:\n",
    "                train_images = train_images.to(device)\n",
    "                train_labels = train_labels.to(device)\n",
    "\n",
    "                train_outputs = model(train_images)\n",
    "                _, predicted_train = torch.max(train_outputs.data, 1)\n",
    "                total_train += train_labels.size(0)\n",
    "                correct_train += (predicted_train == train_labels).sum().item()\n",
    "        train_loss_hist.append(loss.item())\n",
    "        train_accuracy = correct_train / total_train * 100\n",
    "        train_acc.append(train_accuracy)\n",
    "\n",
    "        # Calculate validation loss and accuracy\n",
    "        val_running_loss = 0\n",
    "        correct_val = 0\n",
    "        total_val = 0\n",
    "\n",
    "        with torch.no_grad():\n",
    "            for val_images, val_labels in val_data_loader:\n",
    "                val_images = val_images.to(device)\n",
    "                val_labels = val_labels.to(device)\n",
    "\n",
    "                val_outputs = model(val_images)\n",
    "                val_loss = criterion(val_outputs, val_labels)\n",
    "\n",
    "                val_running_loss += val_loss.item()\n",
    "                _, predicted_val = torch.max(val_outputs.data, 1)\n",
    "                total_val += val_labels.size(0)\n",
    "                correct_val += (predicted_val == val_labels).sum().item()\n",
    "\n",
    "        val_loss_hist.append(val_running_loss / len(val_data_loader))\n",
    "        val_accuracy = correct_val / total_val * 100\n",
    "        val_acc.append(val_accuracy)\n",
    "        if(val_accuracy>best_acc):\n",
    "            best_acc = val_accuracy\n",
    "            torch.save(model,model_path+\"model.pth\")\n",
    "\n",
    "        print('[Epoch %d] Training Loss: %.3f | Training Accuracy: %.2f%% | Validation Loss: %.3f | Validation Accuracy: %.2f%%' % (epoch + 1, loss.item(), train_accuracy, val_running_loss / len(val_data_loader), val_accuracy))\n",
    "        \n",
    "print('Training finished.')\n"
   ]
  },
  {
   "cell_type": "code",
   "execution_count": 9,
   "metadata": {},
   "outputs": [
    {
     "data": {
      "image/png": "[encoded data removed]",
      "text/plain": [
       "<Figure size 432x288 with 1 Axes>"
      ]
     },
     "metadata": {
      "needs_background": "light"
     },
     "output_type": "display_data"
    }
   ],
   "source": [
    "x_axis = np.arange(len(train_acc)) * 5\n",
    "plt.plot(x_axis,train_acc, label='Training Accuracy', color='blue')\n",
    "plt.plot(x_axis,val_acc, label='Validation Accuracy', color='orange')\n",
    "plt.xlabel(\"Epochs\")\n",
    "plt.ylabel(\"Accuracy\")\n",
    "plt.grid(True)\n",
    "plt.legend()\n",
    "plt.show()"
   ]
  },
  {
   "cell_type": "code",
   "execution_count": 10,
   "metadata": {},
   "outputs": [
    {
     "name": "stdout",
     "output_type": "stream",
     "text": [
      "Rust\n"
     ]
    }
   ],
   "source": [
    "from PIL import Image\n",
    "model = torch.load(model_path+'model.pth')\n",
    "def load_img(path):\n",
    "    img = Image.open(path)\n",
    "    transform = transforms.Compose([\n",
    "        transforms.Resize((128, 128)), \n",
    "        transforms.ToTensor(),\n",
    "        transforms.Normalize((0.5, 0.5, 0.5), (0.5, 0.5, 0.5))  \n",
    "    ])\n",
    "    tensor_image = torch.unsqueeze(transform(img),0)\n",
    "    return tensor_image.to(device)\n",
    "def get_pred(img):\n",
    "    pred = model(img)\n",
    "    item = torch.argmax(pred)\n",
    "    return classes[item]\n",
    "#path = train_dir+'/Healthy/869c8acd737cc133.jpg'\n",
    "#path = train_dir+'/Powdery/8a2d598f2ec436e6.jpg'\n",
    "path = train_dir+'/Rust/8a9237d6a86ba167.jpg'\n",
    "img = load_img(path)\n",
    "print(get_pred(img))"
   ]
  }
 ],
 "metadata": {
  "kernelspec": {
   "display_name": "pyt",
   "language": "python",
   "name": "python3"
  },
  "language_info": {
   "codemirror_mode": {
    "name": "ipython",
    "version": 3
   },
   "file_extension": ".py",
   "mimetype": "text/x-python",
   "name": "python",
   "nbconvert_exporter": "python",
   "pygments_lexer": "ipython3",
   "version": "3.10.4"
  },
  "orig_nbformat": 4
 },
 "nbformat": 4,
 "nbformat_minor": 2
}
